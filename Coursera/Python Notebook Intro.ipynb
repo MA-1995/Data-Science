{
 "cells": [
  {
   "cell_type": "markdown",
   "id": "0a86b426-eeed-48f0-b470-e4b68760b834",
   "metadata": {},
   "source": [
    "# Data Science Tools and Ecosystem"
   ]
  },
  {
   "cell_type": "markdown",
   "id": "fc9ba803-430f-4beb-b374-a48fd1ce75ba",
   "metadata": {},
   "source": [
    "In this notebook, Data Science Tools and Ecosystem are summarized. "
   ]
  },
  {
   "cell_type": "markdown",
   "id": "1c227cbe-5275-47ac-86da-d3515b926c65",
   "metadata": {},
   "source": [
    "**Objectives:**\n",
    "\n",
    "- List popular languages in Data Science\n",
    "- List most popular libraries in Data Science\n",
    "- Build a table listing popular Data Science tools\n",
    "- Perform arithmetic equations with introductory clauses explaining the context"
   ]
  },
  {
   "cell_type": "markdown",
   "id": "d5b29150-3fd2-4e6d-b63b-267e0cf4b012",
   "metadata": {},
   "source": [
    "Some of the most popular languages Data Scientists use are:\n",
    "\n",
    "1. Python\n",
    "2. Java\n",
    "3. R"
   ]
  },
  {
   "cell_type": "markdown",
   "id": "0ef9d098-5e2f-4360-8730-71a71c2c0460",
   "metadata": {},
   "source": [
    "Some of the most popular libraries used by Data Scientists are:\n",
    "\n",
    "1. Pandas\n",
    "2. Numpy\n",
    "3. Matplotlib"
   ]
  },
  {
   "cell_type": "markdown",
   "id": "e25a8f2f-a50a-458f-8205-eb666fd408ea",
   "metadata": {},
   "source": [
    "|Data Science Tools|\n",
    "|----|\n",
    "|MySQL|\n",
    "|PostgreSQL|\n",
    "|Hadoop|\n"
   ]
  },
  {
   "cell_type": "markdown",
   "id": "e1211e95-4b26-4f22-bddd-0799b86cadb7",
   "metadata": {},
   "source": [
    "### Below are a few examples of evaluating arithmetic in Python.\n"
   ]
  },
  {
   "cell_type": "code",
   "execution_count": 8,
   "id": "0174e46d-72a8-4ccd-87df-cb9f10132225",
   "metadata": {},
   "outputs": [
    {
     "data": {
      "text/plain": [
       "17"
      ]
     },
     "execution_count": 8,
     "metadata": {},
     "output_type": "execute_result"
    }
   ],
   "source": [
    "# This is a simple arithmetic expression to multiply and then add integers.\n",
    "\n",
    "(3*4)+5"
   ]
  },
  {
   "cell_type": "code",
   "execution_count": 9,
   "id": "b72f19b9-3d9f-4b16-b2d2-cbc9669040ee",
   "metadata": {},
   "outputs": [
    {
     "data": {
      "text/plain": [
       "3.3333333333333335"
      ]
     },
     "execution_count": 9,
     "metadata": {},
     "output_type": "execute_result"
    }
   ],
   "source": [
    "# This will convert 200 minutes to hours by dividing by 60.\n",
    "(200/60)"
   ]
  },
  {
   "cell_type": "markdown",
   "id": "b31cbb2e-79ea-429d-8e65-e3003ae7b928",
   "metadata": {},
   "source": [
    "## Author\n",
    "MA"
   ]
  }
 ],
 "metadata": {
  "kernelspec": {
   "display_name": "anaconda-panel-2023.05-py310",
   "language": "python",
   "name": "conda-env-anaconda-panel-2023.05-py310-py"
  },
  "language_info": {
   "codemirror_mode": {
    "name": "ipython",
    "version": 3
   },
   "file_extension": ".py",
   "mimetype": "text/x-python",
   "name": "python",
   "nbconvert_exporter": "python",
   "pygments_lexer": "ipython3",
   "version": "3.11.5"
  }
 },
 "nbformat": 4,
 "nbformat_minor": 5
}
